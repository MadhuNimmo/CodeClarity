{
 "cells": [
  {
   "cell_type": "markdown",
   "metadata": {},
   "source": [
    "# Bleu scores on backtranslation of summary "
   ]
  },
  {
   "cell_type": "code",
   "execution_count": 1,
   "metadata": {},
   "outputs": [
    {
     "data": {
      "text/plain": [
       "True"
      ]
     },
     "execution_count": 1,
     "metadata": {},
     "output_type": "execute_result"
    }
   ],
   "source": [
    "# save GEMINI_API_KEY in .env file\n",
    "# call `huggingface-cli login` to login to huggingface\n",
    "import os\n",
    "import dotenv\n",
    "import json\n",
    "\n",
    "dotenv.load_dotenv()"
   ]
  },
  {
   "cell_type": "code",
   "execution_count": 2,
   "metadata": {},
   "outputs": [
    {
     "data": {
      "text/plain": [
       "{'code': 'def addidsuffix(self, idsuffix, recursive = True):\\n        \"\"\"Appends a suffix to this element\\'s ID, and optionally to all child IDs as well. There is sually no need to call this directly, invoked implicitly by :meth:`copy`\"\"\"\\n        if self.id: self.id += idsuffix\\n        if recursive:\\n            for e in self:\\n                try:\\n                    e.addidsuffix(idsuffix, recursive)\\n                except Exception:\\n                    pass',\n",
       " 'docstring': \"Appends a suffix to this element's ID, and optionally to all child IDs as well. There is sually no need to call this directly, invoked implicitly by :meth:`copy`\",\n",
       " 'summary': 'Sure! Let’s break down what this function does in simple terms:\\n\\n1. **Purpose**: The function `addidsuffix` adds a suffix (a piece of text) to the `id` of an element. It can also optionally add the same suffix to the `id` of all its child elements.\\n\\n2. **Parameters**:\\n   - `idsuffix`: This is the text you want to append to the `id`.\\n   - `recursive` (optional, defaults to `True`): If set to `True`, the function will also apply the suffix to the `id` of all child elements. If `False`, only the current element’s `id` is updated.\\n\\n3. **How it works**:\\n   - If the element has an `id`, the function appends the `idsuffix` to it.\\n   - If `recursive` is `True`, it loops through all child elements and tries to call `addidsuffix` on each of them, repeating the process for their `id`s.\\n   - If an error occurs while trying to add the suffix to a child element, it’s ignored (using `try` and `except`).\\n\\n4. **Use case**: This function is typically used when you want to ensure that copied or duplicated elements have unique IDs by appending a suffix. It’s often called automatically by another method (like `copy`), so you usually don’t need to call it directly.\\n\\nIn short, it’s a utility function to modify IDs by adding a suffix, with the option to apply this change to all child elements as well.'}"
      ]
     },
     "execution_count": 2,
     "metadata": {},
     "output_type": "execute_result"
    }
   ],
   "source": [
    "source_languages = [\n",
    "    \"english\",\n",
    "    \"french\",\n",
    "    \"german\",\n",
    "    \"hindi\",\n",
    "    \"portuguese\",\n",
    "    \"spanish\",\n",
    "]\n",
    "target_languages = {\n",
    "    \"english\": [\"hindi\", \"bengali\", \"tamil\", \"urdu\", \"arabic\", \"persian\", \"spanish\", \"french\",],\n",
    "    \"french\": [\"hindi\", \"bengali\", \"tamil\", \"urdu\", \"arabic\", \"persian\", \"spanish\",],\n",
    "    \"german\": [\"hindi\", \"bengali\", \"tamil\", \"urdu\", \"arabic\", \"persian\", \"spanish\", \"french\",],\n",
    "    \"hindi\": [\"bengali\", \"tamil\", \"urdu\", \"arabic\", \"persian\", \"spanish\", \"french\",],\n",
    "    \"portuguese\": [\"hindi\", \"bengali\", \"tamil\", \"urdu\", \"arabic\", \"persian\", \"spanish\", \"french\",],\n",
    "    \"spanish\": [\"hindi\", \"bengali\", \"tamil\", \"urdu\", \"arabic\", \"persian\", \"french\",],\n",
    "}\n",
    "datasets = {}\n",
    "for s in source_languages:\n",
    "    with open(f\"./codesearchnet_summary_{s}.json\", \"r\") as f:\n",
    "        datasets[s] = json.load(f)\n",
    "\n",
    "\n",
    "datasets[\"english\"][0]"
   ]
  },
  {
   "cell_type": "code",
   "execution_count": 3,
   "metadata": {},
   "outputs": [],
   "source": [
    "from google import genai\n",
    "client = genai.Client(api_key=os.environ[\"GEMINI_API_KEY\"])"
   ]
  },
  {
   "cell_type": "code",
   "execution_count": 11,
   "metadata": {},
   "outputs": [],
   "source": [
    "source = \"english\"\n",
    "\n",
    "prompt_tmpl = \"\"\"\n",
    "Translate the following code from {source} to {target}\n",
    "Don't include any other text than the translation.\n",
    "Text: {text}\n",
    "Translation:\n",
    "\"\"\"\n",
    "\n",
    "for sample in datasets[source]:\n",
    "    target_lang = target_languages[source][0]\n",
    "    summary = sample[\"summary\"]\n",
    "    # translate summary source -> target\n",
    "    summary_target = client.models.generate_content(\n",
    "        model=\"gemini-2.0-flash\", \n",
    "        contents=prompt_tmpl.format(source=source, target=target_lang, text=summary)\n",
    "    ).text\n",
    "    # translate summary target -> source\n",
    "    summary_back = client.models.generate_content(\n",
    "        model=\"gemini-2.0-flash\", \n",
    "        contents=prompt_tmpl.format(source=target_lang, target=source, text=summary_target)\n",
    "    ).text\n",
    "    # save results\n",
    "    sample[f\"summary_{source}_{target_lang}\"] = summary_target\n",
    "    sample[f\"summary_{target_lang}_{source}\"] = summary_back\n"
   ]
  },
  {
   "cell_type": "code",
   "execution_count": 12,
   "metadata": {},
   "outputs": [],
   "source": [
    "# calculate blue and meteor scores\n",
    "from nltk.translate.bleu_score import sentence_bleu\n",
    "from nltk.tokenize import word_tokenize\n",
    "\n",
    "def calculate_bleu(reference, candidate):\n",
    "    \"\"\"Calculate BLEU score between reference and candidate strings\"\"\"\n",
    "    reference_tokens = [word_tokenize(reference.lower())]\n",
    "    candidate_tokens = word_tokenize(candidate.lower())\n",
    "    return sentence_bleu(reference_tokens, candidate_tokens)\n",
    "\n",
    "# Calculate BLEU score between original and translated text\n",
    "for sample in datasets[source]:\n",
    "    target_lang = target_languages[source][0]\n",
    "    text1 = sample[f\"summary\"]\n",
    "    text2 = sample[f\"summary_{target_lang}_{source}\"]\n",
    "    bleu_score = calculate_bleu(text1, text2)\n",
    "    sample[f\"bleu_summary_{target_lang}\"] = bleu_score\n"
   ]
  },
  {
   "cell_type": "code",
   "execution_count": 15,
   "metadata": {},
   "outputs": [],
   "source": [
    "import pandas as pd\n",
    "\n",
    "columns = [\"sample_id\", \"source\", \"target\", \"bleu\"]\n",
    "data = []\n",
    "for idx, sample in enumerate(datasets[source]):\n",
    "    target_lang = target_languages[source][0]\n",
    "    data.append(\n",
    "        [\n",
    "            idx,\n",
    "            source,\n",
    "            target_lang,\n",
    "            sample[f\"bleu_summary_{target_lang}\"],\n",
    "        ]\n",
    "    )\n",
    "df_bleu = pd.DataFrame(data, columns=columns)\n"
   ]
  },
  {
   "cell_type": "code",
   "execution_count": 16,
   "metadata": {},
   "outputs": [],
   "source": [
    "df_bleu.to_csv(\"bleu_summary.csv\", index=False)"
   ]
  },
  {
   "cell_type": "code",
   "execution_count": 17,
   "metadata": {},
   "outputs": [
    {
     "data": {
      "text/html": [
       "<div>\n",
       "<style scoped>\n",
       "    .dataframe tbody tr th:only-of-type {\n",
       "        vertical-align: middle;\n",
       "    }\n",
       "\n",
       "    .dataframe tbody tr th {\n",
       "        vertical-align: top;\n",
       "    }\n",
       "\n",
       "    .dataframe thead th {\n",
       "        text-align: right;\n",
       "    }\n",
       "</style>\n",
       "<table border=\"1\" class=\"dataframe\">\n",
       "  <thead>\n",
       "    <tr style=\"text-align: right;\">\n",
       "      <th></th>\n",
       "      <th>sample_id</th>\n",
       "      <th>source</th>\n",
       "      <th>target</th>\n",
       "      <th>bleu</th>\n",
       "    </tr>\n",
       "  </thead>\n",
       "  <tbody>\n",
       "    <tr>\n",
       "      <th>0</th>\n",
       "      <td>0</td>\n",
       "      <td>english</td>\n",
       "      <td>hindi</td>\n",
       "      <td>0.884151</td>\n",
       "    </tr>\n",
       "    <tr>\n",
       "      <th>1</th>\n",
       "      <td>1</td>\n",
       "      <td>english</td>\n",
       "      <td>hindi</td>\n",
       "      <td>0.814762</td>\n",
       "    </tr>\n",
       "    <tr>\n",
       "      <th>2</th>\n",
       "      <td>2</td>\n",
       "      <td>english</td>\n",
       "      <td>hindi</td>\n",
       "      <td>0.889584</td>\n",
       "    </tr>\n",
       "    <tr>\n",
       "      <th>3</th>\n",
       "      <td>3</td>\n",
       "      <td>english</td>\n",
       "      <td>hindi</td>\n",
       "      <td>0.896659</td>\n",
       "    </tr>\n",
       "    <tr>\n",
       "      <th>4</th>\n",
       "      <td>4</td>\n",
       "      <td>english</td>\n",
       "      <td>hindi</td>\n",
       "      <td>0.763425</td>\n",
       "    </tr>\n",
       "  </tbody>\n",
       "</table>\n",
       "</div>"
      ],
      "text/plain": [
       "   sample_id   source target      bleu\n",
       "0          0  english  hindi  0.884151\n",
       "1          1  english  hindi  0.814762\n",
       "2          2  english  hindi  0.889584\n",
       "3          3  english  hindi  0.896659\n",
       "4          4  english  hindi  0.763425"
      ]
     },
     "execution_count": 17,
     "metadata": {},
     "output_type": "execute_result"
    }
   ],
   "source": [
    "df_bleu.head()"
   ]
  },
  {
   "cell_type": "code",
   "execution_count": 18,
   "metadata": {},
   "outputs": [
    {
     "data": {
      "text/html": [
       "<div>\n",
       "<style scoped>\n",
       "    .dataframe tbody tr th:only-of-type {\n",
       "        vertical-align: middle;\n",
       "    }\n",
       "\n",
       "    .dataframe tbody tr th {\n",
       "        vertical-align: top;\n",
       "    }\n",
       "\n",
       "    .dataframe thead th {\n",
       "        text-align: right;\n",
       "    }\n",
       "</style>\n",
       "<table border=\"1\" class=\"dataframe\">\n",
       "  <thead>\n",
       "    <tr style=\"text-align: right;\">\n",
       "      <th></th>\n",
       "      <th>sample_id</th>\n",
       "      <th>bleu</th>\n",
       "    </tr>\n",
       "  </thead>\n",
       "  <tbody>\n",
       "    <tr>\n",
       "      <th>count</th>\n",
       "      <td>100.000000</td>\n",
       "      <td>100.000000</td>\n",
       "    </tr>\n",
       "    <tr>\n",
       "      <th>mean</th>\n",
       "      <td>49.500000</td>\n",
       "      <td>0.843061</td>\n",
       "    </tr>\n",
       "    <tr>\n",
       "      <th>std</th>\n",
       "      <td>29.011492</td>\n",
       "      <td>0.045371</td>\n",
       "    </tr>\n",
       "    <tr>\n",
       "      <th>min</th>\n",
       "      <td>0.000000</td>\n",
       "      <td>0.734239</td>\n",
       "    </tr>\n",
       "    <tr>\n",
       "      <th>25%</th>\n",
       "      <td>24.750000</td>\n",
       "      <td>0.809586</td>\n",
       "    </tr>\n",
       "    <tr>\n",
       "      <th>50%</th>\n",
       "      <td>49.500000</td>\n",
       "      <td>0.844386</td>\n",
       "    </tr>\n",
       "    <tr>\n",
       "      <th>75%</th>\n",
       "      <td>74.250000</td>\n",
       "      <td>0.875473</td>\n",
       "    </tr>\n",
       "    <tr>\n",
       "      <th>max</th>\n",
       "      <td>99.000000</td>\n",
       "      <td>0.946186</td>\n",
       "    </tr>\n",
       "  </tbody>\n",
       "</table>\n",
       "</div>"
      ],
      "text/plain": [
       "        sample_id        bleu\n",
       "count  100.000000  100.000000\n",
       "mean    49.500000    0.843061\n",
       "std     29.011492    0.045371\n",
       "min      0.000000    0.734239\n",
       "25%     24.750000    0.809586\n",
       "50%     49.500000    0.844386\n",
       "75%     74.250000    0.875473\n",
       "max     99.000000    0.946186"
      ]
     },
     "execution_count": 18,
     "metadata": {},
     "output_type": "execute_result"
    }
   ],
   "source": [
    "df_bleu.describe()"
   ]
  },
  {
   "cell_type": "code",
   "execution_count": null,
   "metadata": {},
   "outputs": [],
   "source": []
  }
 ],
 "metadata": {
  "kernelspec": {
   "display_name": "v3.13",
   "language": "python",
   "name": "python3"
  },
  "language_info": {
   "codemirror_mode": {
    "name": "ipython",
    "version": 3
   },
   "file_extension": ".py",
   "mimetype": "text/x-python",
   "name": "python",
   "nbconvert_exporter": "python",
   "pygments_lexer": "ipython3",
   "version": "3.13.2"
  }
 },
 "nbformat": 4,
 "nbformat_minor": 2
}
