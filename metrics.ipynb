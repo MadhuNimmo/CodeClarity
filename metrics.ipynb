{
 "cells": [
  {
   "cell_type": "markdown",
   "metadata": {},
   "source": [
    "Evaluate summarization quality by measuring text-overlap using BELU. Summary is back-translated to English and compared against the English summary.\n"
   ]
  },
  {
   "cell_type": "code",
   "execution_count": null,
   "metadata": {},
   "outputs": [
    {
     "data": {
      "text/plain": [
       "True"
      ]
     },
     "execution_count": 20,
     "metadata": {},
     "output_type": "execute_result"
    }
   ],
   "source": [
    "# save GEMINI_API_KEY in .env file\n",
    "# call `huggingface-cli login` to login to huggingface\n",
    "import os\n",
    "import dotenv\n",
    "import json\n",
    "\n",
    "dotenv.load_dotenv()"
   ]
  },
  {
   "cell_type": "code",
   "execution_count": 25,
   "metadata": {},
   "outputs": [
    {
     "data": {
      "text/plain": [
       "{'code': 'def addidsuffix(self, idsuffix, recursive = True):\\n        \"\"\"Appends a suffix to this element\\'s ID, and optionally to all child IDs as well. There is sually no need to call this directly, invoked implicitly by :meth:`copy`\"\"\"\\n        if self.id: self.id += idsuffix\\n        if recursive:\\n            for e in self:\\n                try:\\n                    e.addidsuffix(idsuffix, recursive)\\n                except Exception:\\n                    pass',\n",
       " 'docstring': \"Appends a suffix to this element's ID, and optionally to all child IDs as well. There is sually no need to call this directly, invoked implicitly by :meth:`copy`\",\n",
       " 'summary': 'Sure! Let’s break down what this function does in simple terms:\\n\\n1. **Purpose**: The function `addidsuffix` adds a suffix (a piece of text) to the `id` of an element. It can also optionally add the same suffix to the `id` of all its child elements.\\n\\n2. **Parameters**:\\n   - `idsuffix`: This is the text you want to append to the `id`.\\n   - `recursive` (optional, defaults to `True`): If set to `True`, the function will also apply the suffix to the `id` of all child elements. If `False`, only the current element’s `id` is updated.\\n\\n3. **How it works**:\\n   - If the element has an `id`, the function appends the `idsuffix` to it.\\n   - If `recursive` is `True`, it loops through all child elements and tries to call `addidsuffix` on each of them, repeating the process for their `id`s.\\n   - If an error occurs while trying to add the suffix to a child element, it’s ignored (using `try` and `except`).\\n\\n4. **Use case**: This function is typically used when you want to ensure that copied or duplicated elements have unique IDs by appending a suffix. It’s often called automatically by another method (like `copy`), so you usually don’t need to call it directly.\\n\\nIn short, it’s a utility function to modify IDs by adding a suffix, with the option to apply this change to all child elements as well.',\n",
       " 'summary_english': 'Sure! Let’s break down what this function does in simple terms:\\n\\n1. **Purpose**: The function `addidsuffix` adds a suffix (a piece of text) to the `id` of an element. It can also optionally add the same suffix to the `id` of all its child elements.\\n\\n2. **Parameters**:\\n   - `idsuffix`: This is the text you want to append to the `id`.\\n   - `recursive` (optional, defaults to `True`): If set to `True`, the function will also apply the suffix to the `id` of all child elements. If `False`, only the current element’s `id` is updated.\\n\\n3. **How it works**:\\n   - If the element has an `id`, the function appends the `idsuffix` to it.\\n   - If `recursive` is `True`, it loops through all child elements and tries to call `addidsuffix` on each of them, repeating the process for their `id`s.\\n   - If an error occurs while trying to add the suffix to a child element, it’s ignored (using `try` and `except`).\\n\\n4. **Use case**: This function is typically used when you want to ensure that copied or duplicated elements have unique IDs by appending a suffix. It’s often called automatically by another method (like `copy`), so you usually don’t need to call it directly.\\n\\nIn short, it’s a utility function to modify IDs by adding a suffix, with the option to apply this change to all child elements as well.',\n",
       " 'summary_french': 'Cette fonction, `addidsuffix`, ajoute un suffixe à l\\'ID de l\\'élément actuel (`self`) et, si l\\'option `recursive` est activée (ce qui est le cas par défaut), elle ajoute également ce suffixe aux ID de tous les éléments enfants. \\n\\n**En termes simples :**\\n\\nImagine que tu as une liste d\\'éléments, chacun avec un identifiant unique (ID). Cette fonction te permet d\\'ajouter un suffixe (comme \"_copie\" par exemple) à la fin de l\\'ID de l\\'élément sur lequel tu l\\'appliques. Si tu choisis l\\'option récursive, elle fera la même chose pour tous les éléments qui sont \"à l\\'intérieur\" de cet élément, comme des sous-éléments ou des enfants.\\n\\n**Exemple :**\\n\\nSi tu as un élément avec l\\'ID \"element_1\" et des enfants avec les ID \"element_1_1\" et \"element_1_2\", et que tu appelles `addidsuffix` avec le suffixe \"_copie\", tu obtiendras :\\n\\n* ID de l\\'élément actuel : \"element_1_copie\"\\n* ID des enfants (si récursif) : \"element_1_1_copie\" et \"element_1_2_copie\"\\n\\nNote que cette fonction est généralement utilisée implicitement par une autre fonction appelée `copy`, donc tu n\\'auras probablement pas besoin de l\\'appeler directement.',\n",
       " 'summary_german': 'Diese Funktion fügt ein Suffix (eine Ergänzung) an die ID eines Elements hinzu und kann optional auch die IDs aller untergeordneten Elemente (Kinder) aktualisieren. Hier ist eine einfache Erklärung:\\n\\n1. **Suffix an die eigene ID anhängen**: Wenn das Element eine ID hat, wird das übergebene `idsuffix` an diese ID angehängt.\\n   \\n2. **Rekursives Aktualisieren der Kinder-IDs**: Wenn der Parameter `recursive` auf `True` gesetzt ist (was standardmäßig der Fall ist), durchläuft die Funktion alle untergeordneten Elemente und führt die gleiche Aktion (Suffix anhängen) rekursiv für jedes Kind aus.\\n\\n3. **Fehlerbehandlung**: Falls beim Aktualisieren der Kinder-IDs ein Fehler auftritt, wird dieser ignoriert (durch `pass`).\\n\\nDiese Funktion wird normalerweise nicht direkt aufgerufen, sondern wird automatisch von der `:meth:`copy``-Methode verwendet, um sicherzustellen, dass kopierte Elemente eindeutige IDs haben.',\n",
       " 'summary_hindi': 'ये फ़ंक्शन `addidsuffix` एक ऑब्जेक्ट के ID के अंत में एक सफ़िक्स (suffix) जोड़ता है। इसका मतलब है कि अगर किसी ऑब्जेक्ट का ID है \"element1\", और आप सफ़िक्स \"_copy\" जोड़ते हैं, तो नया ID \"element1_copy\" हो जाएगा।\\n\\nइसके अलावा, अगर `recursive` पैरामीटर को `True` सेट किया गया है (जो डिफ़ॉल्ट है), तो ये फ़ंक्शन सभी चाइल्ड ऑब्जेक्ट्स के ID के अंत में भी वही सफ़िक्स जोड़ देगा। उदाहरण के लिए, अगर एक पेरेंट ऑब्जेक्ट के अंदर कई चाइल्ड ऑब्जेक्ट्स हैं, तो उनके ID भी अपडेट हो जाएंगे।\\n\\nये फ़ंक्शन आमतौर पर सीधे कॉल नहीं किया जाता है, बल्कि `copy` मेथड द्वारा इम्प्लीसिटली (implicitly) कॉल किया जाता है। इसका उपयोग मुख्य रूप से ऑब्जेक्ट्स को कॉपी करते समय उनके ID को यूनिक बनाने के लिए किया जाता है।\\n\\nसारांश में, ये फ़ंक्शन:\\n\\n1. एक ऑब्जेक्ट के ID के अंत में एक सफ़िक्स जोड़ता है।\\n2. अगर `recursive` `True` है, तो सभी चाइल्ड ऑब्जेक्ट्स के ID में भी वही सफ़िक्स जोड़ता है।\\n3. आमतौर पर `copy` मेथड द्वारा ऑटोमेटिकली कॉल किया जाता है।',\n",
       " 'summary_portuguese': 'Este função em Python, chamada `addidsuffix`, é um método que adiciona um sufixo ao ID de um elemento e, opcionalmente, aos IDs de todos os seus elementos filhos. Vamos quebrar o que ela faz em partes simples:\\n\\n1. **Adicionar Sufixo ao ID do Elemento Atual**:  \\n   Se o elemento atual (`self`) tiver um ID, o sufixo (`idsuffix`) é adicionado ao final desse ID.  \\n   Exemplo: Se o ID for `\"elemento1\"` e o sufixo for `\"_copia\"`, o novo ID será `\"elemento1_copia\"`.\\n\\n2. **Aplicar Recursivamente aos Filhos (opcional)**:  \\n   Se o parâmetro `recursive` for `True` (padrão), a função é aplicada também a todos os elementos filhos. Isso significa que o sufixo será adicionado aos IDs deles também, e assim por diante, para todos os níveis de filhos.\\n\\n3. **Tratamento de Erros**:  \\n   Se houver algum problema ao tentar aplicar a função a um elemento filho (por exemplo, se ele não tiver um método `addidsuffix`), o erro é ignorado (`pass`), e a função continua executando para os próximos elementos.\\n\\n4. **Uso Típico**:  \\n   Geralmente, essa função não precisa ser chamada diretamente pelo usuário. Ela é invocada automaticamente por outro método chamado `copy`, que provavelmente é usado para criar cópias de elementos com IDs únicos.\\n\\n**Resumo**:  \\nA função adiciona um sufixo ao ID de um elemento e, se solicitado, faz o mesmo para todos os seus filhos, garantindo que os IDs sejam únicos ao copiar elementos.',\n",
       " 'summary_spanish': 'Esta función, llamada `addidsuffix`, se utiliza para agregar un sufijo al ID de un elemento y, opcionalmente, a los IDs de todos sus elementos hijos. Aquí te explico paso a paso:\\n\\n1. **Agregar sufijo al ID del elemento actual**: Si el elemento tiene un ID (`self.id`), le añade el sufijo (`idsuffix`) al final.  \\n   Por ejemplo, si el ID es `\"elemento1\"` y el sufijo es `\"_copia\"`, el nuevo ID será `\"elemento1_copia\"`.\\n\\n2. **Aplicar recursivamente a los elementos hijos** (si `recursive` es `True`): Si el parámetro `recursive` es `True`, la función se aplica también a todos los elementos hijos del elemento actual. Esto significa que cada hijo (y sus hijos, y así sucesivamente) también tendrá el sufijo añadido a su ID.\\n\\n3. **Manejo de errores**: Si por alguna razón no se puede aplicar la función a un elemento hijo (por ejemplo, si no tiene un método `addidsuffix`), el error se ignora y se continúa con el siguiente elemento.\\n\\n**Uso típico**: Esta función suele invocarse automáticamente cuando se copia un elemento (mediante el método `copy`), por lo que no es necesario llamarla directamente en la mayoría de los casos.\\n\\nEn resumen, es una herramienta para modificar los IDs de un elemento y sus hijos, añadiendo un sufijo de manera consistente.'}"
      ]
     },
     "execution_count": 25,
     "metadata": {},
     "output_type": "execute_result"
    }
   ],
   "source": [
    "# english\n",
    "with open(\"./codesearchnet_summary_english.json\", \"r\") as f:\n",
    "    dataset = json.load(f)\n",
    "    for sample in dataset:\n",
    "        sample[\"summary_english\"] = sample[\"summary\"]\n",
    "\n",
    "file_paths = {\n",
    "    \"french\": \"./codesearchnet_summary_french.json\",\n",
    "    \"german\": \"./codesearchnet_summary_german.json\",\n",
    "    \"hindi\": \"./codesearchnet_summary_hindi.json\",\n",
    "    \"portuguese\": \"./codesearchnet_summary_portuguese.json\",\n",
    "    \"spanish\": \"./codesearchnet_summary_spanish.json\",\n",
    "}\n",
    "for lang, file_path in file_paths.items():\n",
    "    with open(file_path, \"r\") as f:\n",
    "        dataset_lang = json.load(f)\n",
    "        for idx, sample in enumerate(dataset_lang):\n",
    "            dataset[idx][f\"summary_{lang}\"] = sample[\"summary\"]\n",
    "            \n",
    "dataset[0]"
   ]
  },
  {
   "cell_type": "code",
   "execution_count": 24,
   "metadata": {},
   "outputs": [],
   "source": [
    "from google import genai\n",
    "client = genai.Client(api_key=os.environ[\"GEMINI_API_KEY\"])"
   ]
  },
  {
   "cell_type": "code",
   "execution_count": 26,
   "metadata": {},
   "outputs": [],
   "source": [
    "# calculate back translation of summary to english\n",
    "\n",
    "prompt_tmpl = \"\"\"\n",
    "Translate the following code from {source} to {target}\n",
    "Don't include any other text than the translation.\n",
    "Text: {text}\n",
    "Translation:\n",
    "\"\"\"\n",
    "\n",
    "languages = [\"french\", \"german\", \"hindi\", \"portuguese\", \"spanish\"]\n",
    "\n",
    "for sample in dataset:\n",
    "    for source in languages:\n",
    "        summary = sample[f\"summary_{source}\"]\n",
    "        summary_back = client.models.generate_content(\n",
    "            model=\"gemini-2.0-flash\", \n",
    "            contents=prompt_tmpl.format(source=source, target=\"english\", text=summary)\n",
    "        )\n",
    "        sample[f\"summary_{source}_english\"] = summary_back.text"
   ]
  },
  {
   "cell_type": "code",
   "execution_count": 27,
   "metadata": {},
   "outputs": [
    {
     "name": "stderr",
     "output_type": "stream",
     "text": [
      "/Users/suryak/.pyenv/versions/3.13.2/envs/v3.13/lib/python3.13/site-packages/nltk/translate/bleu_score.py:577: UserWarning: \n",
      "The hypothesis contains 0 counts of 4-gram overlaps.\n",
      "Therefore the BLEU score evaluates to 0, independently of\n",
      "how many N-gram overlaps of lower order it contains.\n",
      "Consider using lower n-gram order or use SmoothingFunction()\n",
      "  warnings.warn(_msg)\n"
     ]
    }
   ],
   "source": [
    "# calculate blue between english and backtranslated summary\n",
    "from nltk.translate.bleu_score import sentence_bleu\n",
    "from nltk.tokenize import word_tokenize\n",
    "\n",
    "def calculate_bleu(reference, candidate):\n",
    "    \"\"\"Calculate BLEU score between reference and candidate strings\"\"\"\n",
    "    reference_tokens = [word_tokenize(reference.lower())]\n",
    "    candidate_tokens = word_tokenize(candidate.lower())\n",
    "    return sentence_bleu(reference_tokens, candidate_tokens)\n",
    "\n",
    "# Calculate BLEU score between original and translated text\n",
    "languages = [\"french\", \"german\", \"hindi\", \"portuguese\", \"spanish\"]\n",
    "\n",
    "for sample in dataset:\n",
    "    for lang in languages:\n",
    "        text1 = sample[\"summary_english\"]\n",
    "        text2 = sample[f\"summary_{lang}_english\"]\n",
    "        score = calculate_bleu(text1, text2)\n",
    "        sample[f\"bleu_summary_{lang}\"] = score\n"
   ]
  },
  {
   "cell_type": "code",
   "execution_count": 28,
   "metadata": {},
   "outputs": [],
   "source": [
    "import pandas as pd\n",
    "\n",
    "columns = [\"sample_id\"] + [f\"bleu_{lang}\" for lang in languages]\n",
    "data = []\n",
    "for idx, sample in enumerate(dataset):\n",
    "    record = [idx]\n",
    "    for lang in languages:\n",
    "        record.append(sample[f\"bleu_summary_{lang}\"])\n",
    "    data.append(record)\n",
    "\n",
    "df_bleu = pd.DataFrame(data, columns=columns)"
   ]
  },
  {
   "cell_type": "code",
   "execution_count": 29,
   "metadata": {},
   "outputs": [],
   "source": [
    "df_bleu.to_csv(\"bleu_summary.csv\", index=False)"
   ]
  },
  {
   "cell_type": "code",
   "execution_count": 30,
   "metadata": {},
   "outputs": [
    {
     "data": {
      "text/html": [
       "<div>\n",
       "<style scoped>\n",
       "    .dataframe tbody tr th:only-of-type {\n",
       "        vertical-align: middle;\n",
       "    }\n",
       "\n",
       "    .dataframe tbody tr th {\n",
       "        vertical-align: top;\n",
       "    }\n",
       "\n",
       "    .dataframe thead th {\n",
       "        text-align: right;\n",
       "    }\n",
       "</style>\n",
       "<table border=\"1\" class=\"dataframe\">\n",
       "  <thead>\n",
       "    <tr style=\"text-align: right;\">\n",
       "      <th></th>\n",
       "      <th>sample_id</th>\n",
       "      <th>bleu_french</th>\n",
       "      <th>bleu_german</th>\n",
       "      <th>bleu_hindi</th>\n",
       "      <th>bleu_portuguese</th>\n",
       "      <th>bleu_spanish</th>\n",
       "    </tr>\n",
       "  </thead>\n",
       "  <tbody>\n",
       "    <tr>\n",
       "      <th>0</th>\n",
       "      <td>0</td>\n",
       "      <td>0.101082</td>\n",
       "      <td>0.115502</td>\n",
       "      <td>0.104754</td>\n",
       "      <td>0.193470</td>\n",
       "      <td>0.227310</td>\n",
       "    </tr>\n",
       "    <tr>\n",
       "      <th>1</th>\n",
       "      <td>1</td>\n",
       "      <td>0.249721</td>\n",
       "      <td>0.216234</td>\n",
       "      <td>0.227322</td>\n",
       "      <td>0.223811</td>\n",
       "      <td>0.269240</td>\n",
       "    </tr>\n",
       "    <tr>\n",
       "      <th>2</th>\n",
       "      <td>2</td>\n",
       "      <td>0.376477</td>\n",
       "      <td>0.243210</td>\n",
       "      <td>0.225984</td>\n",
       "      <td>0.340312</td>\n",
       "      <td>0.348646</td>\n",
       "    </tr>\n",
       "    <tr>\n",
       "      <th>3</th>\n",
       "      <td>3</td>\n",
       "      <td>0.391000</td>\n",
       "      <td>0.337511</td>\n",
       "      <td>0.261976</td>\n",
       "      <td>0.465752</td>\n",
       "      <td>0.437511</td>\n",
       "    </tr>\n",
       "    <tr>\n",
       "      <th>4</th>\n",
       "      <td>4</td>\n",
       "      <td>0.300351</td>\n",
       "      <td>0.225045</td>\n",
       "      <td>0.188370</td>\n",
       "      <td>0.352900</td>\n",
       "      <td>0.335318</td>\n",
       "    </tr>\n",
       "  </tbody>\n",
       "</table>\n",
       "</div>"
      ],
      "text/plain": [
       "   sample_id  bleu_french  bleu_german  bleu_hindi  bleu_portuguese  \\\n",
       "0          0     0.101082     0.115502    0.104754         0.193470   \n",
       "1          1     0.249721     0.216234    0.227322         0.223811   \n",
       "2          2     0.376477     0.243210    0.225984         0.340312   \n",
       "3          3     0.391000     0.337511    0.261976         0.465752   \n",
       "4          4     0.300351     0.225045    0.188370         0.352900   \n",
       "\n",
       "   bleu_spanish  \n",
       "0      0.227310  \n",
       "1      0.269240  \n",
       "2      0.348646  \n",
       "3      0.437511  \n",
       "4      0.335318  "
      ]
     },
     "execution_count": 30,
     "metadata": {},
     "output_type": "execute_result"
    }
   ],
   "source": [
    "df_bleu.head()"
   ]
  },
  {
   "cell_type": "code",
   "execution_count": 31,
   "metadata": {},
   "outputs": [
    {
     "data": {
      "text/html": [
       "<div>\n",
       "<style scoped>\n",
       "    .dataframe tbody tr th:only-of-type {\n",
       "        vertical-align: middle;\n",
       "    }\n",
       "\n",
       "    .dataframe tbody tr th {\n",
       "        vertical-align: top;\n",
       "    }\n",
       "\n",
       "    .dataframe thead th {\n",
       "        text-align: right;\n",
       "    }\n",
       "</style>\n",
       "<table border=\"1\" class=\"dataframe\">\n",
       "  <thead>\n",
       "    <tr style=\"text-align: right;\">\n",
       "      <th></th>\n",
       "      <th>sample_id</th>\n",
       "      <th>bleu_french</th>\n",
       "      <th>bleu_german</th>\n",
       "      <th>bleu_hindi</th>\n",
       "      <th>bleu_portuguese</th>\n",
       "      <th>bleu_spanish</th>\n",
       "    </tr>\n",
       "  </thead>\n",
       "  <tbody>\n",
       "    <tr>\n",
       "      <th>count</th>\n",
       "      <td>100.000000</td>\n",
       "      <td>100.000000</td>\n",
       "      <td>100.000000</td>\n",
       "      <td>1.000000e+02</td>\n",
       "      <td>100.000000</td>\n",
       "      <td>100.000000</td>\n",
       "    </tr>\n",
       "    <tr>\n",
       "      <th>mean</th>\n",
       "      <td>49.500000</td>\n",
       "      <td>0.263333</td>\n",
       "      <td>0.228706</td>\n",
       "      <td>1.644995e-01</td>\n",
       "      <td>0.276547</td>\n",
       "      <td>0.286424</td>\n",
       "    </tr>\n",
       "    <tr>\n",
       "      <th>std</th>\n",
       "      <td>29.011492</td>\n",
       "      <td>0.068812</td>\n",
       "      <td>0.073908</td>\n",
       "      <td>6.747216e-02</td>\n",
       "      <td>0.073292</td>\n",
       "      <td>0.070914</td>\n",
       "    </tr>\n",
       "    <tr>\n",
       "      <th>min</th>\n",
       "      <td>0.000000</td>\n",
       "      <td>0.101082</td>\n",
       "      <td>0.072219</td>\n",
       "      <td>5.980519e-79</td>\n",
       "      <td>0.103755</td>\n",
       "      <td>0.116892</td>\n",
       "    </tr>\n",
       "    <tr>\n",
       "      <th>25%</th>\n",
       "      <td>24.750000</td>\n",
       "      <td>0.218369</td>\n",
       "      <td>0.180035</td>\n",
       "      <td>1.147524e-01</td>\n",
       "      <td>0.230398</td>\n",
       "      <td>0.243659</td>\n",
       "    </tr>\n",
       "    <tr>\n",
       "      <th>50%</th>\n",
       "      <td>49.500000</td>\n",
       "      <td>0.263531</td>\n",
       "      <td>0.233202</td>\n",
       "      <td>1.656304e-01</td>\n",
       "      <td>0.279988</td>\n",
       "      <td>0.289129</td>\n",
       "    </tr>\n",
       "    <tr>\n",
       "      <th>75%</th>\n",
       "      <td>74.250000</td>\n",
       "      <td>0.306948</td>\n",
       "      <td>0.277370</td>\n",
       "      <td>2.165171e-01</td>\n",
       "      <td>0.330416</td>\n",
       "      <td>0.332025</td>\n",
       "    </tr>\n",
       "    <tr>\n",
       "      <th>max</th>\n",
       "      <td>99.000000</td>\n",
       "      <td>0.395623</td>\n",
       "      <td>0.423066</td>\n",
       "      <td>3.490217e-01</td>\n",
       "      <td>0.465752</td>\n",
       "      <td>0.473574</td>\n",
       "    </tr>\n",
       "  </tbody>\n",
       "</table>\n",
       "</div>"
      ],
      "text/plain": [
       "        sample_id  bleu_french  bleu_german    bleu_hindi  bleu_portuguese  \\\n",
       "count  100.000000   100.000000   100.000000  1.000000e+02       100.000000   \n",
       "mean    49.500000     0.263333     0.228706  1.644995e-01         0.276547   \n",
       "std     29.011492     0.068812     0.073908  6.747216e-02         0.073292   \n",
       "min      0.000000     0.101082     0.072219  5.980519e-79         0.103755   \n",
       "25%     24.750000     0.218369     0.180035  1.147524e-01         0.230398   \n",
       "50%     49.500000     0.263531     0.233202  1.656304e-01         0.279988   \n",
       "75%     74.250000     0.306948     0.277370  2.165171e-01         0.330416   \n",
       "max     99.000000     0.395623     0.423066  3.490217e-01         0.465752   \n",
       "\n",
       "       bleu_spanish  \n",
       "count    100.000000  \n",
       "mean       0.286424  \n",
       "std        0.070914  \n",
       "min        0.116892  \n",
       "25%        0.243659  \n",
       "50%        0.289129  \n",
       "75%        0.332025  \n",
       "max        0.473574  "
      ]
     },
     "execution_count": 31,
     "metadata": {},
     "output_type": "execute_result"
    }
   ],
   "source": [
    "df_bleu.describe()"
   ]
  },
  {
   "cell_type": "code",
   "execution_count": 19,
   "metadata": {},
   "outputs": [
    {
     "data": {
      "text/plain": [
       "sample_id          99\n",
       "source        english\n",
       "target          hindi\n",
       "bleu         0.946186\n",
       "dtype: object"
      ]
     },
     "execution_count": 19,
     "metadata": {},
     "output_type": "execute_result"
    }
   ],
   "source": [
    "df_bleu.max()"
   ]
  },
  {
   "cell_type": "code",
   "execution_count": null,
   "metadata": {},
   "outputs": [],
   "source": []
  }
 ],
 "metadata": {
  "kernelspec": {
   "display_name": "v3.13",
   "language": "python",
   "name": "python3"
  },
  "language_info": {
   "codemirror_mode": {
    "name": "ipython",
    "version": 3
   },
   "file_extension": ".py",
   "mimetype": "text/x-python",
   "name": "python",
   "nbconvert_exporter": "python",
   "pygments_lexer": "ipython3",
   "version": "3.13.2"
  }
 },
 "nbformat": 4,
 "nbformat_minor": 2
}
