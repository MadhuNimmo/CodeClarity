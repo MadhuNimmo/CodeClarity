{
 "cells": [
  {
   "cell_type": "markdown",
   "metadata": {},
   "source": [
    "# Bleu scores on backtranslation of summary "
   ]
  },
  {
   "cell_type": "code",
   "execution_count": 1,
   "metadata": {},
   "outputs": [
    {
     "data": {
      "text/plain": [
       "False"
      ]
     },
     "execution_count": 1,
     "metadata": {},
     "output_type": "execute_result"
    }
   ],
   "source": [
    "# save GEMINI_API_KEY in .env file\n",
    "# call `huggingface-cli login` to login to huggingface\n",
    "import os\n",
    "import dotenv\n",
    "import json\n",
    "\n",
    "dotenv.load_dotenv()"
   ]
  },
  {
   "cell_type": "code",
   "execution_count": 33,
   "metadata": {},
   "outputs": [
    {
     "name": "stdout",
     "output_type": "stream",
     "text": [
      "100\n"
     ]
    }
   ],
   "source": [
    "source_languages = [\n",
    "    \"english\",\n",
    "    \"french\",\n",
    "    \"german\",\n",
    "    \"hindi\",\n",
    "    \"portuguese\",\n",
    "    \"spanish\",\n",
    "]\n",
    "target_languages = {\n",
    "    \"english\": [\"hindi\", \"bengali\", \"tamil\", \"urdu\", \"arabic\", \"persian\", \"spanish\", \"french\",\"swahili\"],\n",
    "    \"french\": [\"hindi\", \"bengali\", \"tamil\", \"urdu\", \"arabic\", \"persian\", \"spanish\",],\n",
    "    \"german\": [\"hindi\", \"bengali\", \"tamil\", \"urdu\", \"arabic\", \"persian\", \"spanish\", \"french\",],\n",
    "    \"hindi\": [\"bengali\", \"tamil\", \"urdu\", \"arabic\", \"persian\", \"spanish\", \"french\",],\n",
    "    \"portuguese\": [\"hindi\", \"bengali\", \"tamil\", \"urdu\", \"arabic\", \"persian\", \"spanish\", \"french\",],\n",
    "    \"spanish\": [\"hindi\", \"bengali\", \"tamil\", \"urdu\", \"arabic\", \"persian\", \"french\",],\n",
    "}\n",
    "datasets = {}\n",
    "\n",
    "with open(f\"./codesearchnet_summary_english.json\", \"r\") as f:\n",
    "        datasets[\"english\"] = json.load(f)\n",
    "datasets[\"english\"][0]\n",
    "# datasets[\"hindi\"][0]\n",
    "print(len(datasets[\"english\"]))"
   ]
  },
  {
   "cell_type": "code",
   "execution_count": 4,
   "metadata": {},
   "outputs": [],
   "source": [
    "import requests\n",
    "def get_ollama_completion(prompt, model=\"gemma3:4b-it-q4_K_M\"):\n",
    "    \"\"\"Get completion from Ollama API\"\"\"\n",
    "    try:\n",
    "        response = requests.post('http://localhost:11434/api/generate',\n",
    "                               json={\n",
    "                                   \"model\": model,\n",
    "                                   \"prompt\": prompt,\n",
    "                                   \"stream\": False\n",
    "                               })\n",
    "        response.raise_for_status()  # Raise exception for bad status codes\n",
    "        data = response.json()\n",
    "        \n",
    "        # Check if response contains the expected data\n",
    "        if 'response' not in data:\n",
    "            print(f\"Unexpected API response format: {data}\")\n",
    "            return \"\"\n",
    "            \n",
    "        return data['response']\n",
    "    except requests.exceptions.RequestException as e:\n",
    "        print(f\"Error calling Ollama API: {e}\")\n",
    "        return \"\""
   ]
  },
  {
   "cell_type": "code",
   "execution_count": 34,
   "metadata": {},
   "outputs": [
    {
     "name": "stderr",
     "output_type": "stream",
     "text": [
      "Some weights of the model checkpoint at xlm-roberta-large were not used when initializing XLMRobertaForMaskedLM: ['roberta.pooler.dense.bias', 'roberta.pooler.dense.weight']\n",
      "- This IS expected if you are initializing XLMRobertaForMaskedLM from the checkpoint of a model trained on another task or with another architecture (e.g. initializing a BertForSequenceClassification model from a BertForPreTraining model).\n",
      "- This IS NOT expected if you are initializing XLMRobertaForMaskedLM from the checkpoint of a model that you expect to be exactly identical (initializing a BertForSequenceClassification model from a BertForSequenceClassification model).\n"
     ]
    },
    {
     "name": "stdout",
     "output_type": "stream",
     "text": [
      "Results for French to English:\n",
      "Avg Precision: 0.8841, Avg Recall: 0.8838, Avg F1: 0.8839\n",
      "\n",
      "Results for German to English:\n",
      "Avg Precision: 0.8823, Avg Recall: 0.8762, Avg F1: 0.8793\n",
      "\n",
      "Results for Hindi to English:\n",
      "Avg Precision: 0.8648, Avg Recall: 0.8581, Avg F1: 0.8614\n",
      "\n",
      "Results for Portuguese to English:\n",
      "Avg Precision: 0.8903, Avg Recall: 0.8841, Avg F1: 0.8872\n",
      "\n",
      "Results for Spanish to English:\n",
      "Avg Precision: 0.8890, Avg Recall: 0.8844, Avg F1: 0.8867\n",
      "\n"
     ]
    }
   ],
   "source": [
    "from transformers import AutoTokenizer, AutoModelForMaskedLM\n",
    "tokenizer = AutoTokenizer.from_pretrained('xlm-roberta-large')\n",
    "model = AutoModelForMaskedLM.from_pretrained(\"xlm-roberta-large\")\n",
    "import bert_score\n",
    "\n",
    "source=[entry[\"summary\"] for entry in datasets[\"english\"]]\n",
    "\n",
    "target_languages = {\n",
    "    \"french\": \"fr\",\n",
    "    \"german\": \"de\",\n",
    "    \"hindi\": \"hi\",\n",
    "    \"portuguese\": \"pt\",\n",
    "    \"spanish\": \"es\"\n",
    "}\n",
    "\n",
    "datasets = {}\n",
    "model = \"xlm-roberta-large\"  # Ensure this is a string\n",
    "\n",
    "for lang, iso_code in target_languages.items():\n",
    "    with open(f\"./codesearchnet_summary_{lang}.json\", \"r\") as f:\n",
    "        datasets[lang] = json.load(f)\n",
    "    \n",
    "    target = [entry[\"summary\"] for entry in datasets[lang]]\n",
    "\n",
    "    # Compute BERTScore using the correct language code\n",
    "    P, R, F1 = bert_score.score(target, source, model_type=model, lang=iso_code)\n",
    "\n",
    "    print(f\"Results for {lang.capitalize()} to English:\")\n",
    "    print(f\"Avg Precision: {P.mean():.4f}, Avg Recall: {R.mean():.4f}, Avg F1: {F1.mean():.4f}\\n\")\n",
    "        \n",
    "\n",
    "        \n",
    "\n",
    "    "
   ]
  }
 ],
 "metadata": {
  "kernelspec": {
   "display_name": "codeclarity",
   "language": "python",
   "name": "python3"
  },
  "language_info": {
   "codemirror_mode": {
    "name": "ipython",
    "version": 3
   },
   "file_extension": ".py",
   "mimetype": "text/x-python",
   "name": "python",
   "nbconvert_exporter": "python",
   "pygments_lexer": "ipython3",
   "version": "3.11.5"
  }
 },
 "nbformat": 4,
 "nbformat_minor": 2
}
